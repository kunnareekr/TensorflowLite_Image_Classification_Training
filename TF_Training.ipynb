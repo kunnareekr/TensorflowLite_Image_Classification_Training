{
  "nbformat": 4,
  "nbformat_minor": 0,
  "metadata": {
    "colab": {
      "name": "TF_Training.ipynb",
      "provenance": [],
      "collapsed_sections": [],
      "include_colab_link": true
    },
    "kernelspec": {
      "name": "python3",
      "display_name": "Python 3"
    },
    "accelerator": "GPU"
  },
  "cells": [
    {
      "cell_type": "markdown",
      "metadata": {
        "id": "view-in-github",
        "colab_type": "text"
      },
      "source": [
        "<a href=\"https://colab.research.google.com/github/rfatcakr/Tensorflow_object_training/blob/master/TF_Training.ipynb\" target=\"_parent\"><img src=\"https://colab.research.google.com/assets/colab-badge.svg\" alt=\"Open In Colab\"/></a>"
      ]
    },
    {
      "cell_type": "markdown",
      "metadata": {
        "id": "TP0CKZsitdcY",
        "colab_type": "text"
      },
      "source": [
        "#Object Detection on Tensorflow "
      ]
    },
    {
      "cell_type": "markdown",
      "metadata": {
        "id": "TSCxoQAZ4wMR",
        "colab_type": "text"
      },
      "source": [
        "## Introduction"
      ]
    },
    {
      "cell_type": "markdown",
      "metadata": {
        "id": "GbwClbkvoOVH",
        "colab_type": "text"
      },
      "source": [
        "**TensorFlow Lite**\n",
        "\n",
        "This notebooks shows training a TensorFlow Lite models and testing it by using your own datasets.\n",
        "\n",
        "For more details, take a look at blog posts:\n",
        "\n",
        "\n",
        "* [Testing TensorFlow Lite image classification mode](https://thinkmobile.dev/testing-tensorflow-lite-image-classification-model/)l - converting TensorFlow to TensorFlow Lite and comparing models side by side.\n",
        "Automate testing of TensorFlow Lite model implementation.\n",
        "\n",
        "* [Automate testing of TensorFlow Lite model implementation](https://thinkmobile.dev/automate-testing-of-tensorflow-lite-model-implementation/) - Testing TensorFlow Lite model on Android app with Espresso and instrumented tests.\n",
        " \n"
      ]
    },
    {
      "cell_type": "markdown",
      "metadata": {
        "id": "y9Vtlb8avAVR",
        "colab_type": "text"
      },
      "source": [
        "\n",
        "This notebooks shows some ways for debugging TensorFlow Lite models and comparing them with the original implementations in TensorFlow.\n"
      ]
    },
    {
      "cell_type": "markdown",
      "metadata": {
        "id": "p23QXDAsuCx4",
        "colab_type": "text"
      },
      "source": [
        "**TensorFlow 2.0 alpha and Colaboratory**\n",
        "\n",
        "Examples presented in this notebook are built on top of TensorFlow 2.0 beta version. As long as it's not a stable version yet, there is no guarantee that anything here will work as it should.\n",
        "\n",
        "This notebook was created only for the Colaboratory environment. It requires some changes to make it working on Docker environment described in linked blog post.\n",
        "\n",
        "GPU support\n",
        "The good thing about Colab is that it supports GPU envinronment without additional work. Just open Runtime -> Change runtime type and make sure that GPU is selected. The training process of this notebook should be about 3 times faster than on CPU env."
      ]
    },
    {
      "cell_type": "markdown",
      "metadata": {
        "id": "nLc2pU0_uZa8",
        "colab_type": "text"
      },
      "source": [
        "## **Requirements**\n"
      ]
    },
    {
      "cell_type": "code",
      "metadata": {
        "id": "b5j7qXqYn_cH",
        "colab_type": "code",
        "colab": {}
      },
      "source": [
        "!pip install tensorflow-gpu==2.0.0-beta0\n",
        "!pip install tensorflow_hub"
      ],
      "execution_count": 0,
      "outputs": []
    },
    {
      "cell_type": "code",
      "metadata": {
        "id": "SjJUNBI3uV_8",
        "colab_type": "code",
        "colab": {
          "base_uri": "https://localhost:8080/",
          "height": 445
        },
        "outputId": "26b9406b-c645-43d7-dd2e-7d2195efb4bf"
      },
      "source": [
        "from __future__ import absolute_import, division, print_function, unicode_literals\n",
        "\n",
        "import matplotlib.pylab as plt\n",
        "import tensorflow as tf\n",
        "import tensorflow_hub as hub\n",
        "import numpy as np"
      ],
      "execution_count": 2,
      "outputs": [
        {
          "output_type": "stream",
          "text": [
            "/usr/local/lib/python3.6/dist-packages/tensorflow/python/framework/dtypes.py:516: FutureWarning: Passing (type, 1) or '1type' as a synonym of type is deprecated; in a future version of numpy, it will be understood as (type, (1,)) / '(1,)type'.\n",
            "  _np_qint8 = np.dtype([(\"qint8\", np.int8, 1)])\n",
            "/usr/local/lib/python3.6/dist-packages/tensorflow/python/framework/dtypes.py:517: FutureWarning: Passing (type, 1) or '1type' as a synonym of type is deprecated; in a future version of numpy, it will be understood as (type, (1,)) / '(1,)type'.\n",
            "  _np_quint8 = np.dtype([(\"quint8\", np.uint8, 1)])\n",
            "/usr/local/lib/python3.6/dist-packages/tensorflow/python/framework/dtypes.py:518: FutureWarning: Passing (type, 1) or '1type' as a synonym of type is deprecated; in a future version of numpy, it will be understood as (type, (1,)) / '(1,)type'.\n",
            "  _np_qint16 = np.dtype([(\"qint16\", np.int16, 1)])\n",
            "/usr/local/lib/python3.6/dist-packages/tensorflow/python/framework/dtypes.py:519: FutureWarning: Passing (type, 1) or '1type' as a synonym of type is deprecated; in a future version of numpy, it will be understood as (type, (1,)) / '(1,)type'.\n",
            "  _np_quint16 = np.dtype([(\"quint16\", np.uint16, 1)])\n",
            "/usr/local/lib/python3.6/dist-packages/tensorflow/python/framework/dtypes.py:520: FutureWarning: Passing (type, 1) or '1type' as a synonym of type is deprecated; in a future version of numpy, it will be understood as (type, (1,)) / '(1,)type'.\n",
            "  _np_qint32 = np.dtype([(\"qint32\", np.int32, 1)])\n",
            "/usr/local/lib/python3.6/dist-packages/tensorflow/python/framework/dtypes.py:525: FutureWarning: Passing (type, 1) or '1type' as a synonym of type is deprecated; in a future version of numpy, it will be understood as (type, (1,)) / '(1,)type'.\n",
            "  np_resource = np.dtype([(\"resource\", np.ubyte, 1)])\n",
            "/usr/local/lib/python3.6/dist-packages/tensorboard/compat/tensorflow_stub/dtypes.py:541: FutureWarning: Passing (type, 1) or '1type' as a synonym of type is deprecated; in a future version of numpy, it will be understood as (type, (1,)) / '(1,)type'.\n",
            "  _np_qint8 = np.dtype([(\"qint8\", np.int8, 1)])\n",
            "/usr/local/lib/python3.6/dist-packages/tensorboard/compat/tensorflow_stub/dtypes.py:542: FutureWarning: Passing (type, 1) or '1type' as a synonym of type is deprecated; in a future version of numpy, it will be understood as (type, (1,)) / '(1,)type'.\n",
            "  _np_quint8 = np.dtype([(\"quint8\", np.uint8, 1)])\n",
            "/usr/local/lib/python3.6/dist-packages/tensorboard/compat/tensorflow_stub/dtypes.py:543: FutureWarning: Passing (type, 1) or '1type' as a synonym of type is deprecated; in a future version of numpy, it will be understood as (type, (1,)) / '(1,)type'.\n",
            "  _np_qint16 = np.dtype([(\"qint16\", np.int16, 1)])\n",
            "/usr/local/lib/python3.6/dist-packages/tensorboard/compat/tensorflow_stub/dtypes.py:544: FutureWarning: Passing (type, 1) or '1type' as a synonym of type is deprecated; in a future version of numpy, it will be understood as (type, (1,)) / '(1,)type'.\n",
            "  _np_quint16 = np.dtype([(\"quint16\", np.uint16, 1)])\n",
            "/usr/local/lib/python3.6/dist-packages/tensorboard/compat/tensorflow_stub/dtypes.py:545: FutureWarning: Passing (type, 1) or '1type' as a synonym of type is deprecated; in a future version of numpy, it will be understood as (type, (1,)) / '(1,)type'.\n",
            "  _np_qint32 = np.dtype([(\"qint32\", np.int32, 1)])\n",
            "/usr/local/lib/python3.6/dist-packages/tensorboard/compat/tensorflow_stub/dtypes.py:550: FutureWarning: Passing (type, 1) or '1type' as a synonym of type is deprecated; in a future version of numpy, it will be understood as (type, (1,)) / '(1,)type'.\n",
            "  np_resource = np.dtype([(\"resource\", np.ubyte, 1)])\n"
          ],
          "name": "stderr"
        }
      ]
    },
    {
      "cell_type": "markdown",
      "metadata": {
        "id": "nKONbAj0upSD",
        "colab_type": "text"
      },
      "source": [
        "For better data visualization we'll use Pandas library."
      ]
    },
    {
      "cell_type": "code",
      "metadata": {
        "id": "m7Hb5T2Wumuk",
        "colab_type": "code",
        "colab": {}
      },
      "source": [
        "import pandas as pd\n",
        "\n",
        "# Increase precision of presented data for better side-by-side comparison\n",
        "pd.set_option(\"display.precision\", 8)"
      ],
      "execution_count": 0,
      "outputs": []
    },
    {
      "cell_type": "markdown",
      "metadata": {
        "id": "j8TuZZbowIMW",
        "colab_type": "text"
      },
      "source": [
        "Verify system"
      ]
    },
    {
      "cell_type": "code",
      "metadata": {
        "id": "hhoLAl0LuuAT",
        "colab_type": "code",
        "colab": {
          "base_uri": "https://localhost:8080/",
          "height": 85
        },
        "outputId": "f12d3e8b-33fb-449e-d466-412fce20c110"
      },
      "source": [
        "print(\"Version: \", tf.__version__)\n",
        "print(\"Hub version: \", hub.__version__)\n",
        "print(\"Eager mode: \", tf.executing_eagerly())\n",
        "print(\"GPU is\", \"available\" if tf.test.is_gpu_available() else \"NOT AVAILABLE\")"
      ],
      "execution_count": 4,
      "outputs": [
        {
          "output_type": "stream",
          "text": [
            "Version:  2.0.0-beta0\n",
            "Hub version:  0.6.0\n",
            "Eager mode:  True\n",
            "GPU is available\n"
          ],
          "name": "stdout"
        }
      ]
    },
    {
      "cell_type": "markdown",
      "metadata": {
        "id": "20vybW4gvr6d",
        "colab_type": "text"
      },
      "source": [
        "## **Prepare dataset**"
      ]
    },
    {
      "cell_type": "markdown",
      "metadata": {
        "id": "hVdG15oG2LVU",
        "colab_type": "text"
      },
      "source": [
        "Connect your drive with your gmail"
      ]
    },
    {
      "cell_type": "code",
      "metadata": {
        "id": "omKPwTcnwYwb",
        "colab_type": "code",
        "colab": {
          "base_uri": "https://localhost:8080/",
          "height": 122
        },
        "outputId": "693e13a7-7a87-4efa-9a71-e1587db5a2bb"
      },
      "source": [
        "from google.colab import drive\n",
        "drive.mount('/content/drive')"
      ],
      "execution_count": 5,
      "outputs": [
        {
          "output_type": "stream",
          "text": [
            "Go to this URL in a browser: https://accounts.google.com/o/oauth2/auth?client_id=947318989803-6bn6qk8qdgf4n4g3pfee6491hc0brc4i.apps.googleusercontent.com&redirect_uri=urn%3Aietf%3Awg%3Aoauth%3A2.0%3Aoob&scope=email%20https%3A%2F%2Fwww.googleapis.com%2Fauth%2Fdocs.test%20https%3A%2F%2Fwww.googleapis.com%2Fauth%2Fdrive%20https%3A%2F%2Fwww.googleapis.com%2Fauth%2Fdrive.photos.readonly%20https%3A%2F%2Fwww.googleapis.com%2Fauth%2Fpeopleapi.readonly&response_type=code\n",
            "\n",
            "Enter your authorization code:\n",
            "··········\n",
            "Mounted at /content/drive\n"
          ],
          "name": "stdout"
        }
      ]
    },
    {
      "cell_type": "markdown",
      "metadata": {
        "id": "xiMaaYVN2Qdf",
        "colab_type": "text"
      },
      "source": [
        "Set your training folder which contains images\n",
        "\n",
        "P.S: You can use shoe folder from this [Git repo](https://github.com/rfatcakr/Tensorflow_object_training/tree/master/sample_inputs)."
      ]
    },
    {
      "cell_type": "code",
      "metadata": {
        "id": "nXmuOaVf287A",
        "colab_type": "code",
        "colab": {}
      },
      "source": [
        "data_root='/content/drive/My Drive/TFLITE/shoe_photos';"
      ],
      "execution_count": 0,
      "outputs": []
    },
    {
      "cell_type": "markdown",
      "metadata": {
        "id": "ysF7xS9i3PJn",
        "colab_type": "text"
      },
      "source": [
        "Create data generator for training and validation"
      ]
    },
    {
      "cell_type": "code",
      "metadata": {
        "id": "LQ5ou5H73CMM",
        "colab_type": "code",
        "colab": {
          "base_uri": "https://localhost:8080/",
          "height": 68
        },
        "outputId": "2f33c6c6-d762-4597-81bf-38ba5a3d4278"
      },
      "source": [
        "IMAGE_SHAPE = (224, 224)\n",
        "TRAINING_DATA_DIR = str(data_root)\n",
        "print(TRAINING_DATA_DIR);\n",
        "datagen_kwargs = dict(rescale=1./255, validation_split=.20)\n",
        "valid_datagen = tf.keras.preprocessing.image.ImageDataGenerator(**datagen_kwargs)\n",
        "valid_generator = valid_datagen.flow_from_directory(\n",
        "    TRAINING_DATA_DIR, \n",
        "    subset=\"validation\", \n",
        "    shuffle=True,\n",
        "    target_size=IMAGE_SHAPE\n",
        ")\n",
        "\n",
        "train_datagen = tf.keras.preprocessing.image.ImageDataGenerator(**datagen_kwargs)\n",
        "train_generator = train_datagen.flow_from_directory(\n",
        "    TRAINING_DATA_DIR, \n",
        "    subset=\"training\", \n",
        "    shuffle=True,\n",
        "    target_size=IMAGE_SHAPE)"
      ],
      "execution_count": 7,
      "outputs": [
        {
          "output_type": "stream",
          "text": [
            "/content/drive/My Drive/TFLITE/shoe_photos\n",
            "Found 175 images belonging to 5 classes.\n",
            "Found 711 images belonging to 5 classes.\n"
          ],
          "name": "stdout"
        }
      ]
    },
    {
      "cell_type": "markdown",
      "metadata": {
        "id": "-q4fyFNv3eBf",
        "colab_type": "text"
      },
      "source": [
        "Learn more about data batches"
      ]
    },
    {
      "cell_type": "code",
      "metadata": {
        "id": "6ug8XgJn3g7-",
        "colab_type": "code",
        "colab": {
          "base_uri": "https://localhost:8080/",
          "height": 85
        },
        "outputId": "77dd0785-39e2-4071-e746-5a412bae0741"
      },
      "source": [
        "image_batch_train, label_batch_train = next(iter(train_generator))\n",
        "print(\"Image batch shape: \", image_batch_train.shape)\n",
        "print(\"Label batch shape: \", label_batch_train.shape)\n",
        "dataset_labels = sorted(train_generator.class_indices.items(), key=lambda pair:pair[1])\n",
        "dataset_labels = np.array([key.title() for key, value in dataset_labels])\n",
        "print(dataset_labels)"
      ],
      "execution_count": 8,
      "outputs": [
        {
          "output_type": "stream",
          "text": [
            "Image batch shape:  (32, 224, 224, 3)\n",
            "Label batch shape:  (32, 5)\n",
            "['Nike_Air_Max_Plus' 'Nike_Court_Royale' 'Nike_Downshifter'\n",
            " 'Nike_Md_Runner' 'Nike_Nightgazer']\n"
          ],
          "name": "stdout"
        }
      ]
    },
    {
      "cell_type": "markdown",
      "metadata": {
        "id": "GZOH9wzX3gCe",
        "colab_type": "text"
      },
      "source": [
        "# Training"
      ]
    },
    {
      "cell_type": "markdown",
      "metadata": {
        "id": "Lx3y7tC030AV",
        "colab_type": "text"
      },
      "source": [
        "As a base model for transfer learning, we'll use MobileNet v2 model stored on TensorFlow Hub. Presented model can be used only in TensorFlow 2.0 implementation (TF Hub contains also models for TensorFlow 1.x).\n",
        "Basic information about feature vector:\n",
        "\n",
        "\n",
        "*   Input shape: 224x224x3 (224x224 pixels, 3 chanels each, RGB format),\n",
        "*   Each channel has value in range [0, 1],\n",
        "*   Feature vector output shape: 1280 (number of labels classified by MobileNet is 1001 - this info isn't important here)\n",
        "\n",
        "For more details check feature vector page: https://tfhub.dev/google/tf2-preview/mobilenet_v2/feature_vector/4\n",
        "\n",
        "\n"
      ]
    },
    {
      "cell_type": "code",
      "metadata": {
        "id": "YqJ3TuWN4Hvs",
        "colab_type": "code",
        "colab": {
          "base_uri": "https://localhost:8080/",
          "height": 255
        },
        "outputId": "efcf8615-076b-4618-e3c1-797a9bf8ec5a"
      },
      "source": [
        "model = tf.keras.Sequential([\n",
        "  hub.KerasLayer(\"https://tfhub.dev/google/tf2-preview/mobilenet_v2/feature_vector/4\", \n",
        "                 output_shape=[1280],\n",
        "                 trainable=False),\n",
        "  tf.keras.layers.Dropout(0.4),\n",
        "  tf.keras.layers.Dense(train_generator.num_classes, activation='softmax')\n",
        "])\n",
        "model.build([None, 224, 224, 3])\n",
        "\n",
        "model.summary()"
      ],
      "execution_count": 9,
      "outputs": [
        {
          "output_type": "stream",
          "text": [
            "Model: \"sequential\"\n",
            "_________________________________________________________________\n",
            "Layer (type)                 Output Shape              Param #   \n",
            "=================================================================\n",
            "keras_layer (KerasLayer)     multiple                  2257984   \n",
            "_________________________________________________________________\n",
            "dropout (Dropout)            multiple                  0         \n",
            "_________________________________________________________________\n",
            "dense (Dense)                multiple                  6405      \n",
            "=================================================================\n",
            "Total params: 2,264,389\n",
            "Trainable params: 6,405\n",
            "Non-trainable params: 2,257,984\n",
            "_________________________________________________________________\n"
          ],
          "name": "stdout"
        }
      ]
    },
    {
      "cell_type": "code",
      "metadata": {
        "id": "Ofr-Mujb4K9k",
        "colab_type": "code",
        "colab": {}
      },
      "source": [
        "model.compile(\n",
        "  optimizer=tf.keras.optimizers.Adam(),\n",
        "  loss='categorical_crossentropy',\n",
        "  metrics=['acc'])"
      ],
      "execution_count": 0,
      "outputs": []
    },
    {
      "cell_type": "markdown",
      "metadata": {
        "id": "gzqEX6G-32ed",
        "colab_type": "text"
      },
      "source": [
        "*Lets Train Our model!*"
      ]
    },
    {
      "cell_type": "code",
      "metadata": {
        "id": "WmB3AdY64Q3L",
        "colab_type": "code",
        "colab": {
          "base_uri": "https://localhost:8080/",
          "height": 513
        },
        "outputId": "6229eab4-556d-4aed-a938-6fa1abf9ba61"
      },
      "source": [
        "steps_per_epoch = np.ceil(train_generator.samples/train_generator.batch_size)\n",
        "val_steps_per_epoch = np.ceil(valid_generator.samples/valid_generator.batch_size)\n",
        "\n",
        "hist = model.fit(\n",
        "    train_generator, \n",
        "    epochs=10,\n",
        "    verbose=1,\n",
        "    steps_per_epoch=steps_per_epoch,\n",
        "    validation_data=valid_generator,\n",
        "    validation_steps=val_steps_per_epoch).history"
      ],
      "execution_count": 11,
      "outputs": [
        {
          "output_type": "stream",
          "text": [
            "Epoch 1/10\n",
            "WARNING:tensorflow:From /usr/local/lib/python3.6/dist-packages/tensorflow/python/ops/math_grad.py:1250: add_dispatch_support.<locals>.wrapper (from tensorflow.python.ops.array_ops) is deprecated and will be removed in a future version.\n",
            "Instructions for updating:\n",
            "Use tf.where in 2.0, which has the same broadcast rule as np.where\n"
          ],
          "name": "stdout"
        },
        {
          "output_type": "stream",
          "text": [
            "WARNING:tensorflow:From /usr/local/lib/python3.6/dist-packages/tensorflow/python/ops/math_grad.py:1250: add_dispatch_support.<locals>.wrapper (from tensorflow.python.ops.array_ops) is deprecated and will be removed in a future version.\n",
            "Instructions for updating:\n",
            "Use tf.where in 2.0, which has the same broadcast rule as np.where\n"
          ],
          "name": "stderr"
        },
        {
          "output_type": "stream",
          "text": [
            " 3/23 [==>...........................] - ETA: 5:07 - loss: 2.3044 - acc: 0.1761"
          ],
          "name": "stdout"
        },
        {
          "output_type": "stream",
          "text": [
            "/usr/local/lib/python3.6/dist-packages/PIL/Image.py:914: UserWarning: Palette images with Transparency   expressed in bytes should be converted to RGBA images\n",
            "  'to RGBA images')\n"
          ],
          "name": "stderr"
        },
        {
          "output_type": "stream",
          "text": [
            "23/23 [==============================] - 516s 22s/step - loss: 1.7606 - acc: 0.2383 - val_loss: 1.1819 - val_acc: 0.5886\n",
            "Epoch 2/10\n",
            "23/23 [==============================] - 10s 429ms/step - loss: 1.1879 - acc: 0.5289 - val_loss: 0.9134 - val_acc: 0.6857\n",
            "Epoch 3/10\n",
            "23/23 [==============================] - 11s 472ms/step - loss: 0.9713 - acc: 0.5996 - val_loss: 0.7646 - val_acc: 0.7486\n",
            "Epoch 4/10\n",
            "23/23 [==============================] - 10s 456ms/step - loss: 0.8302 - acc: 0.6881 - val_loss: 0.6928 - val_acc: 0.8171\n",
            "Epoch 5/10\n",
            "23/23 [==============================] - 11s 457ms/step - loss: 0.7338 - acc: 0.7264 - val_loss: 0.6357 - val_acc: 0.8114\n",
            "Epoch 6/10\n",
            "23/23 [==============================] - 11s 463ms/step - loss: 0.6464 - acc: 0.7552 - val_loss: 0.5988 - val_acc: 0.8629\n",
            "Epoch 7/10\n",
            "23/23 [==============================] - 11s 472ms/step - loss: 0.5613 - acc: 0.8108 - val_loss: 0.5696 - val_acc: 0.8571\n",
            "Epoch 8/10\n",
            "23/23 [==============================] - 11s 459ms/step - loss: 0.5626 - acc: 0.8113 - val_loss: 0.5306 - val_acc: 0.8800\n",
            "Epoch 9/10\n",
            "23/23 [==============================] - 11s 459ms/step - loss: 0.5378 - acc: 0.8166 - val_loss: 0.5055 - val_acc: 0.8914\n",
            "Epoch 10/10\n",
            "23/23 [==============================] - 10s 451ms/step - loss: 0.4747 - acc: 0.8584 - val_loss: 0.4806 - val_acc: 0.8800\n"
          ],
          "name": "stdout"
        }
      ]
    },
    {
      "cell_type": "markdown",
      "metadata": {
        "id": "LCLtopiU4Xi6",
        "colab_type": "text"
      },
      "source": [
        "Measure accuracy and loss after training"
      ]
    },
    {
      "cell_type": "code",
      "metadata": {
        "id": "JzL5x8Es4a3Z",
        "colab_type": "code",
        "colab": {
          "base_uri": "https://localhost:8080/",
          "height": 68
        },
        "outputId": "7397646d-a928-4059-9388-bd08df93524a"
      },
      "source": [
        "final_loss, final_accuracy = model.evaluate(valid_generator, steps = val_steps_per_epoch)\n",
        "print(\"Final loss: {:.2f}\".format(final_loss))\n",
        "print(\"Final accuracy: {:.2f}%\".format(final_accuracy * 100))"
      ],
      "execution_count": 12,
      "outputs": [
        {
          "output_type": "stream",
          "text": [
            "6/6 [==============================] - 3s 450ms/step - loss: 0.4806 - acc: 0.8800\n",
            "Final loss: 0.48\n",
            "Final accuracy: 88.00%\n"
          ],
          "name": "stdout"
        }
      ]
    },
    {
      "cell_type": "markdown",
      "metadata": {
        "id": "9cA-1OzD460f",
        "colab_type": "text"
      },
      "source": [
        "# Exporting Model\n",
        "\n",
        "We'll save our model as TensorFlow SavedModel format. After that we'll do inference on reloaded model, so if you come with a model already trained, it'll be easier to inspect it."
      ]
    },
    {
      "cell_type": "code",
      "metadata": {
        "id": "qOoKiMLi5Ko2",
        "colab_type": "code",
        "colab": {
          "base_uri": "https://localhost:8080/",
          "height": 1000
        },
        "outputId": "bbafc713-1982-4373-e6ff-7754e0239886"
      },
      "source": [
        "SHOE_SAVED_MODEL = \"saved_models/shoe\"\n",
        "tf.keras.experimental.export_saved_model(model, SHOE_SAVED_MODEL)"
      ],
      "execution_count": 13,
      "outputs": [
        {
          "output_type": "stream",
          "text": [
            "WARNING:tensorflow:From /usr/local/lib/python3.6/dist-packages/tensorflow/python/saved_model/signature_def_utils_impl.py:253: build_tensor_info (from tensorflow.python.saved_model.utils_impl) is deprecated and will be removed in a future version.\n",
            "Instructions for updating:\n",
            "This function will only be available through the v1 compatibility library as tf.compat.v1.saved_model.utils.build_tensor_info or tf.compat.v1.saved_model.build_tensor_info.\n"
          ],
          "name": "stdout"
        },
        {
          "output_type": "stream",
          "text": [
            "WARNING:tensorflow:From /usr/local/lib/python3.6/dist-packages/tensorflow/python/saved_model/signature_def_utils_impl.py:253: build_tensor_info (from tensorflow.python.saved_model.utils_impl) is deprecated and will be removed in a future version.\n",
            "Instructions for updating:\n",
            "This function will only be available through the v1 compatibility library as tf.compat.v1.saved_model.utils.build_tensor_info or tf.compat.v1.saved_model.build_tensor_info.\n"
          ],
          "name": "stderr"
        },
        {
          "output_type": "stream",
          "text": [
            "INFO:tensorflow:Signatures INCLUDED in export for Classify: None\n"
          ],
          "name": "stdout"
        },
        {
          "output_type": "stream",
          "text": [
            "INFO:tensorflow:Signatures INCLUDED in export for Classify: None\n"
          ],
          "name": "stderr"
        },
        {
          "output_type": "stream",
          "text": [
            "INFO:tensorflow:Signatures INCLUDED in export for Regress: None\n"
          ],
          "name": "stdout"
        },
        {
          "output_type": "stream",
          "text": [
            "INFO:tensorflow:Signatures INCLUDED in export for Regress: None\n"
          ],
          "name": "stderr"
        },
        {
          "output_type": "stream",
          "text": [
            "INFO:tensorflow:Signatures INCLUDED in export for Predict: None\n"
          ],
          "name": "stdout"
        },
        {
          "output_type": "stream",
          "text": [
            "INFO:tensorflow:Signatures INCLUDED in export for Predict: None\n"
          ],
          "name": "stderr"
        },
        {
          "output_type": "stream",
          "text": [
            "INFO:tensorflow:Signatures INCLUDED in export for Train: ['train']\n"
          ],
          "name": "stdout"
        },
        {
          "output_type": "stream",
          "text": [
            "INFO:tensorflow:Signatures INCLUDED in export for Train: ['train']\n"
          ],
          "name": "stderr"
        },
        {
          "output_type": "stream",
          "text": [
            "INFO:tensorflow:Signatures INCLUDED in export for Eval: None\n"
          ],
          "name": "stdout"
        },
        {
          "output_type": "stream",
          "text": [
            "INFO:tensorflow:Signatures INCLUDED in export for Eval: None\n"
          ],
          "name": "stderr"
        },
        {
          "output_type": "stream",
          "text": [
            "WARNING:tensorflow:Export includes no default signature!\n"
          ],
          "name": "stdout"
        },
        {
          "output_type": "stream",
          "text": [
            "WARNING:tensorflow:Export includes no default signature!\n"
          ],
          "name": "stderr"
        },
        {
          "output_type": "stream",
          "text": [
            "WARNING:tensorflow:Issue encountered when serializing variables.\n",
            "Type is unsupported, or the types of the items don't match field type in CollectionDef. Note this is a warning and probably safe to ignore.\n",
            "'list' object has no attribute 'name'\n"
          ],
          "name": "stdout"
        },
        {
          "output_type": "stream",
          "text": [
            "WARNING:tensorflow:Issue encountered when serializing variables.\n",
            "Type is unsupported, or the types of the items don't match field type in CollectionDef. Note this is a warning and probably safe to ignore.\n",
            "'list' object has no attribute 'name'\n"
          ],
          "name": "stderr"
        },
        {
          "output_type": "stream",
          "text": [
            "INFO:tensorflow:No assets to save.\n"
          ],
          "name": "stdout"
        },
        {
          "output_type": "stream",
          "text": [
            "INFO:tensorflow:No assets to save.\n"
          ],
          "name": "stderr"
        },
        {
          "output_type": "stream",
          "text": [
            "INFO:tensorflow:No assets to write.\n"
          ],
          "name": "stdout"
        },
        {
          "output_type": "stream",
          "text": [
            "INFO:tensorflow:No assets to write.\n"
          ],
          "name": "stderr"
        },
        {
          "output_type": "stream",
          "text": [
            "INFO:tensorflow:Signatures INCLUDED in export for Classify: None\n"
          ],
          "name": "stdout"
        },
        {
          "output_type": "stream",
          "text": [
            "INFO:tensorflow:Signatures INCLUDED in export for Classify: None\n"
          ],
          "name": "stderr"
        },
        {
          "output_type": "stream",
          "text": [
            "INFO:tensorflow:Signatures INCLUDED in export for Regress: None\n"
          ],
          "name": "stdout"
        },
        {
          "output_type": "stream",
          "text": [
            "INFO:tensorflow:Signatures INCLUDED in export for Regress: None\n"
          ],
          "name": "stderr"
        },
        {
          "output_type": "stream",
          "text": [
            "INFO:tensorflow:Signatures INCLUDED in export for Predict: None\n"
          ],
          "name": "stdout"
        },
        {
          "output_type": "stream",
          "text": [
            "INFO:tensorflow:Signatures INCLUDED in export for Predict: None\n"
          ],
          "name": "stderr"
        },
        {
          "output_type": "stream",
          "text": [
            "INFO:tensorflow:Signatures INCLUDED in export for Train: None\n"
          ],
          "name": "stdout"
        },
        {
          "output_type": "stream",
          "text": [
            "INFO:tensorflow:Signatures INCLUDED in export for Train: None\n"
          ],
          "name": "stderr"
        },
        {
          "output_type": "stream",
          "text": [
            "INFO:tensorflow:Signatures INCLUDED in export for Eval: ['eval']\n"
          ],
          "name": "stdout"
        },
        {
          "output_type": "stream",
          "text": [
            "INFO:tensorflow:Signatures INCLUDED in export for Eval: ['eval']\n"
          ],
          "name": "stderr"
        },
        {
          "output_type": "stream",
          "text": [
            "WARNING:tensorflow:Export includes no default signature!\n"
          ],
          "name": "stdout"
        },
        {
          "output_type": "stream",
          "text": [
            "WARNING:tensorflow:Export includes no default signature!\n"
          ],
          "name": "stderr"
        },
        {
          "output_type": "stream",
          "text": [
            "WARNING:tensorflow:Issue encountered when serializing variables.\n",
            "Type is unsupported, or the types of the items don't match field type in CollectionDef. Note this is a warning and probably safe to ignore.\n",
            "'list' object has no attribute 'name'\n"
          ],
          "name": "stdout"
        },
        {
          "output_type": "stream",
          "text": [
            "WARNING:tensorflow:Issue encountered when serializing variables.\n",
            "Type is unsupported, or the types of the items don't match field type in CollectionDef. Note this is a warning and probably safe to ignore.\n",
            "'list' object has no attribute 'name'\n"
          ],
          "name": "stderr"
        },
        {
          "output_type": "stream",
          "text": [
            "INFO:tensorflow:No assets to save.\n"
          ],
          "name": "stdout"
        },
        {
          "output_type": "stream",
          "text": [
            "INFO:tensorflow:No assets to save.\n"
          ],
          "name": "stderr"
        },
        {
          "output_type": "stream",
          "text": [
            "INFO:tensorflow:No assets to write.\n"
          ],
          "name": "stdout"
        },
        {
          "output_type": "stream",
          "text": [
            "INFO:tensorflow:No assets to write.\n",
            "Exception ignored in: <bound method _CheckpointRestoreCoordinator.__del__ of <tensorflow.python.training.tracking.util._CheckpointRestoreCoordinator object at 0x7f82d9a67fd0>>\n",
            "Traceback (most recent call last):\n",
            "  File \"/usr/local/lib/python3.6/dist-packages/tensorflow/python/training/tracking/util.py\", line 244, in __del__\n",
            "    .format(pretty_printer.node_names[node_id]))\n",
            "  File \"/usr/local/lib/python3.6/dist-packages/tensorflow/python/training/tracking/util.py\", line 93, in node_names\n",
            "    path_to_root[node_id] + (child.local_name,))\n",
            "  File \"/usr/local/lib/python3.6/dist-packages/tensorflow/python/training/tracking/object_identity.py\", line 76, in __getitem__\n",
            "    return self._storage[self._wrap_key(key)]\n",
            "KeyError: (<tensorflow.python.training.tracking.object_identity._ObjectIdentityWrapper object at 0x7f82d4ca4898>,)\n"
          ],
          "name": "stderr"
        },
        {
          "output_type": "stream",
          "text": [
            "INFO:tensorflow:Signatures INCLUDED in export for Classify: None\n"
          ],
          "name": "stdout"
        },
        {
          "output_type": "stream",
          "text": [
            "INFO:tensorflow:Signatures INCLUDED in export for Classify: None\n"
          ],
          "name": "stderr"
        },
        {
          "output_type": "stream",
          "text": [
            "INFO:tensorflow:Signatures INCLUDED in export for Regress: None\n"
          ],
          "name": "stdout"
        },
        {
          "output_type": "stream",
          "text": [
            "INFO:tensorflow:Signatures INCLUDED in export for Regress: None\n"
          ],
          "name": "stderr"
        },
        {
          "output_type": "stream",
          "text": [
            "INFO:tensorflow:Signatures INCLUDED in export for Predict: ['serving_default']\n"
          ],
          "name": "stdout"
        },
        {
          "output_type": "stream",
          "text": [
            "INFO:tensorflow:Signatures INCLUDED in export for Predict: ['serving_default']\n"
          ],
          "name": "stderr"
        },
        {
          "output_type": "stream",
          "text": [
            "INFO:tensorflow:Signatures INCLUDED in export for Train: None\n"
          ],
          "name": "stdout"
        },
        {
          "output_type": "stream",
          "text": [
            "INFO:tensorflow:Signatures INCLUDED in export for Train: None\n"
          ],
          "name": "stderr"
        },
        {
          "output_type": "stream",
          "text": [
            "INFO:tensorflow:Signatures INCLUDED in export for Eval: None\n"
          ],
          "name": "stdout"
        },
        {
          "output_type": "stream",
          "text": [
            "INFO:tensorflow:Signatures INCLUDED in export for Eval: None\n"
          ],
          "name": "stderr"
        },
        {
          "output_type": "stream",
          "text": [
            "WARNING:tensorflow:Issue encountered when serializing variables.\n",
            "Type is unsupported, or the types of the items don't match field type in CollectionDef. Note this is a warning and probably safe to ignore.\n",
            "'list' object has no attribute 'name'\n"
          ],
          "name": "stdout"
        },
        {
          "output_type": "stream",
          "text": [
            "WARNING:tensorflow:Issue encountered when serializing variables.\n",
            "Type is unsupported, or the types of the items don't match field type in CollectionDef. Note this is a warning and probably safe to ignore.\n",
            "'list' object has no attribute 'name'\n"
          ],
          "name": "stderr"
        },
        {
          "output_type": "stream",
          "text": [
            "INFO:tensorflow:No assets to save.\n"
          ],
          "name": "stdout"
        },
        {
          "output_type": "stream",
          "text": [
            "INFO:tensorflow:No assets to save.\n"
          ],
          "name": "stderr"
        },
        {
          "output_type": "stream",
          "text": [
            "INFO:tensorflow:No assets to write.\n"
          ],
          "name": "stdout"
        },
        {
          "output_type": "stream",
          "text": [
            "INFO:tensorflow:No assets to write.\n"
          ],
          "name": "stderr"
        },
        {
          "output_type": "stream",
          "text": [
            "INFO:tensorflow:SavedModel written to: saved_models/shoe/saved_model.pb\n"
          ],
          "name": "stdout"
        },
        {
          "output_type": "stream",
          "text": [
            "INFO:tensorflow:SavedModel written to: saved_models/shoe/saved_model.pb\n"
          ],
          "name": "stderr"
        }
      ]
    },
    {
      "cell_type": "markdown",
      "metadata": {
        "id": "Omkmoe1h5oOW",
        "colab_type": "text"
      },
      "source": [
        "## Load TensorFlow SavedModel\n",
        "Let's load TensorFlow model from SavedModel format. Because we used custom layer from TensorFlow Hub, we need to explicitly point out the implementation with custom_obiects param."
      ]
    },
    {
      "cell_type": "code",
      "metadata": {
        "id": "yzGQG8bEOI89",
        "colab_type": "code",
        "colab": {
          "base_uri": "https://localhost:8080/",
          "height": 190
        },
        "outputId": "66004f61-6c25-474b-b5fc-4c8b9c641eb7"
      },
      "source": [
        "# Load SavedModel\n",
        "\n",
        "shoe_model = tf.keras.experimental.load_from_saved_model(SHOE_SAVED_MODEL, \n",
        "                                                            custom_objects={'KerasLayer':hub.KerasLayer})"
      ],
      "execution_count": 14,
      "outputs": [
        {
          "output_type": "stream",
          "text": [
            "Exception ignored in: <bound method _CheckpointRestoreCoordinator.__del__ of <tensorflow.python.training.tracking.util._CheckpointRestoreCoordinator object at 0x7f82d4b2df98>>\n",
            "Traceback (most recent call last):\n",
            "  File \"/usr/local/lib/python3.6/dist-packages/tensorflow/python/training/tracking/util.py\", line 244, in __del__\n",
            "    .format(pretty_printer.node_names[node_id]))\n",
            "  File \"/usr/local/lib/python3.6/dist-packages/tensorflow/python/training/tracking/util.py\", line 93, in node_names\n",
            "    path_to_root[node_id] + (child.local_name,))\n",
            "  File \"/usr/local/lib/python3.6/dist-packages/tensorflow/python/training/tracking/object_identity.py\", line 76, in __getitem__\n",
            "    return self._storage[self._wrap_key(key)]\n",
            "KeyError: (<tensorflow.python.training.tracking.object_identity._ObjectIdentityWrapper object at 0x7f82d05fe320>,)\n"
          ],
          "name": "stderr"
        }
      ]
    },
    {
      "cell_type": "markdown",
      "metadata": {
        "id": "VGX60RfZOpDX",
        "colab_type": "text"
      },
      "source": [
        "## Check predictions on loaded model"
      ]
    },
    {
      "cell_type": "code",
      "metadata": {
        "id": "OyWIPMhIOtW3",
        "colab_type": "code",
        "colab": {
          "base_uri": "https://localhost:8080/",
          "height": 34
        },
        "outputId": "2e30ed66-9d2a-4e4a-edef-54294caede7d"
      },
      "source": [
        "# Get images and labels batch from validation dataset generator\n",
        "\n",
        "val_image_batch, val_label_batch = next(iter(valid_generator))\n",
        "true_label_ids = np.argmax(val_label_batch, axis=-1)\n",
        "\n",
        "print(\"Validation batch shape:\", val_image_batch.shape)"
      ],
      "execution_count": 15,
      "outputs": [
        {
          "output_type": "stream",
          "text": [
            "Validation batch shape: (32, 224, 224, 3)\n"
          ],
          "name": "stdout"
        }
      ]
    },
    {
      "cell_type": "markdown",
      "metadata": {
        "id": "UpRfXFh0O3fQ",
        "colab_type": "text"
      },
      "source": [
        "Validation batch shape tells us that we have a batch of 32 images, with size and channels: 224x224x3.\n",
        "\n",
        "Let's calculate predictions for the entire batch."
      ]
    },
    {
      "cell_type": "code",
      "metadata": {
        "id": "K4Cu8rlgO4Vf",
        "colab_type": "code",
        "colab": {
          "base_uri": "https://localhost:8080/",
          "height": 34
        },
        "outputId": "58d0ee3a-3db3-4ba2-e66f-5882d03ff302"
      },
      "source": [
        "tf_model_predictions = shoe_model.predict(val_image_batch)\n",
        "print(\"Prediction results shape:\", tf_model_predictions.shape)"
      ],
      "execution_count": 16,
      "outputs": [
        {
          "output_type": "stream",
          "text": [
            "Prediction results shape: (32, 5)\n"
          ],
          "name": "stdout"
        }
      ]
    },
    {
      "cell_type": "markdown",
      "metadata": {
        "id": "0AKrktH_O-px",
        "colab_type": "text"
      },
      "source": [
        "Convert prediction results to Pandas dataframe, for better visualization"
      ]
    },
    {
      "cell_type": "code",
      "metadata": {
        "id": "44n9E2ldO_VM",
        "colab_type": "code",
        "colab": {
          "base_uri": "https://localhost:8080/",
          "height": 221
        },
        "outputId": "fc6f6d38-7e48-4e86-be59-d0048272bbbc"
      },
      "source": [
        "tf_pred_dataframe = pd.DataFrame(tf_model_predictions)\n",
        "tf_pred_dataframe.columns = dataset_labels\n",
        "\n",
        "print(\"Prediction results for the first elements\")\n",
        "tf_pred_dataframe.head()"
      ],
      "execution_count": 17,
      "outputs": [
        {
          "output_type": "stream",
          "text": [
            "Prediction results for the first elements\n"
          ],
          "name": "stdout"
        },
        {
          "output_type": "execute_result",
          "data": {
            "text/html": [
              "<div>\n",
              "<style scoped>\n",
              "    .dataframe tbody tr th:only-of-type {\n",
              "        vertical-align: middle;\n",
              "    }\n",
              "\n",
              "    .dataframe tbody tr th {\n",
              "        vertical-align: top;\n",
              "    }\n",
              "\n",
              "    .dataframe thead th {\n",
              "        text-align: right;\n",
              "    }\n",
              "</style>\n",
              "<table border=\"1\" class=\"dataframe\">\n",
              "  <thead>\n",
              "    <tr style=\"text-align: right;\">\n",
              "      <th></th>\n",
              "      <th>Nike_Air_Max_Plus</th>\n",
              "      <th>Nike_Court_Royale</th>\n",
              "      <th>Nike_Downshifter</th>\n",
              "      <th>Nike_Md_Runner</th>\n",
              "      <th>Nike_Nightgazer</th>\n",
              "    </tr>\n",
              "  </thead>\n",
              "  <tbody>\n",
              "    <tr>\n",
              "      <th>0</th>\n",
              "      <td>0.07885441</td>\n",
              "      <td>0.02144392</td>\n",
              "      <td>0.57562369</td>\n",
              "      <td>0.22765736</td>\n",
              "      <td>0.09642061</td>\n",
              "    </tr>\n",
              "    <tr>\n",
              "      <th>1</th>\n",
              "      <td>0.97169030</td>\n",
              "      <td>0.00590087</td>\n",
              "      <td>0.01807896</td>\n",
              "      <td>0.00366713</td>\n",
              "      <td>0.00066279</td>\n",
              "    </tr>\n",
              "    <tr>\n",
              "      <th>2</th>\n",
              "      <td>0.05558987</td>\n",
              "      <td>0.04415789</td>\n",
              "      <td>0.09458448</td>\n",
              "      <td>0.17686120</td>\n",
              "      <td>0.62880659</td>\n",
              "    </tr>\n",
              "    <tr>\n",
              "      <th>3</th>\n",
              "      <td>0.96230596</td>\n",
              "      <td>0.00262978</td>\n",
              "      <td>0.02641835</td>\n",
              "      <td>0.00671727</td>\n",
              "      <td>0.00192858</td>\n",
              "    </tr>\n",
              "    <tr>\n",
              "      <th>4</th>\n",
              "      <td>0.00160219</td>\n",
              "      <td>0.02846157</td>\n",
              "      <td>0.80299139</td>\n",
              "      <td>0.11186761</td>\n",
              "      <td>0.05507723</td>\n",
              "    </tr>\n",
              "  </tbody>\n",
              "</table>\n",
              "</div>"
            ],
            "text/plain": [
              "   Nike_Air_Max_Plus  Nike_Court_Royale  ...  Nike_Md_Runner  Nike_Nightgazer\n",
              "0         0.07885441         0.02144392  ...      0.22765736       0.09642061\n",
              "1         0.97169030         0.00590087  ...      0.00366713       0.00066279\n",
              "2         0.05558987         0.04415789  ...      0.17686120       0.62880659\n",
              "3         0.96230596         0.00262978  ...      0.00671727       0.00192858\n",
              "4         0.00160219         0.02846157  ...      0.11186761       0.05507723\n",
              "\n",
              "[5 rows x 5 columns]"
            ]
          },
          "metadata": {
            "tags": []
          },
          "execution_count": 17
        }
      ]
    },
    {
      "cell_type": "code",
      "metadata": {
        "id": "Yp7Gh7pWPFqN",
        "colab_type": "code",
        "colab": {}
      },
      "source": [
        "predicted_ids = np.argmax(tf_model_predictions, axis=-1)\n",
        "predicted_labels = dataset_labels[predicted_ids]"
      ],
      "execution_count": 0,
      "outputs": []
    },
    {
      "cell_type": "markdown",
      "metadata": {
        "id": "hPWS8QnvPHfN",
        "colab_type": "text"
      },
      "source": [
        "Print images batch and labels predictions"
      ]
    },
    {
      "cell_type": "code",
      "metadata": {
        "id": "plEqTUNbPKtE",
        "colab_type": "code",
        "colab": {
          "base_uri": "https://localhost:8080/",
          "height": 412
        },
        "outputId": "31f72b20-aec0-4ab6-be5d-87135a357a39"
      },
      "source": [
        "plt.figure(figsize=(10,9))\n",
        "plt.subplots_adjust(hspace=0.5)\n",
        "for n in range(20):\n",
        "  plt.subplot(6,5,n+1)\n",
        "  plt.imshow(val_image_batch[n])\n",
        "  color = \"green\" if predicted_ids[n] == true_label_ids[n] else \"red\"\n",
        "  plt.title(predicted_labels[n].title(), color=color)\n",
        "  plt.axis('off')\n",
        "_ = plt.suptitle(\"Model predictions (green: correct, red: incorrect)\")"
      ],
      "execution_count": 32,
      "outputs": [
        {
          "output_type": "display_data",
          "data": {
            "image/png": "[encoded data removed]",
            "text/plain": [
              "<Figure size 720x648 with 20 Axes>"
            ]
          },
          "metadata": {
            "tags": []
          }
        }
      ]
    },
    {
      "cell_type": "markdown",
      "metadata": {
        "id": "IqHSNtHuPQXj",
        "colab_type": "text"
      },
      "source": [
        "## Convert model to TFLite\n",
        "\n",
        "Convert recently loaded model to TensorFlow Lite models (standard and quantized with a post-training quantization).\n",
        "\n",
        "Because of TensorFlow 2.0 nature, we'll need to convert TensorFlow model into concrete function and then do conversion to TFLite. "
      ]
    },
    {
      "cell_type": "code",
      "metadata": {
        "id": "Eso-bJSqPeAV",
        "colab_type": "code",
        "colab": {}
      },
      "source": [
        "!mkdir \"tflite_models\""
      ],
      "execution_count": 0,
      "outputs": []
    },
    {
      "cell_type": "code",
      "metadata": {
        "id": "MBOxnviUPf0i",
        "colab_type": "code",
        "colab": {}
      },
      "source": [
        "TFLITE_MODEL = \"tflite_models/shoe.tflite\"\n",
        "TFLITE_QUANT_MODEL = \"tflite_models/shoe_quant.tflite\""
      ],
      "execution_count": 0,
      "outputs": []
    },
    {
      "cell_type": "code",
      "metadata": {
        "id": "FnqFQnIMPmd-",
        "colab_type": "code",
        "colab": {
          "base_uri": "https://localhost:8080/",
          "height": 153
        },
        "outputId": "2f0cc5da-5575-4b87-8652-1dbf089d1ad5"
      },
      "source": [
        "# Get the concrete function from the Keras model.\n",
        "run_model = tf.function(lambda x : shoe_model(x))\n",
        "\n",
        "# Save the concrete function.\n",
        "concrete_func = run_model.get_concrete_function(\n",
        "    tf.TensorSpec(model.inputs[0].shape, model.inputs[0].dtype)\n",
        ")\n",
        "\n",
        "# Convert the model\n",
        "converter = tf.lite.TFLiteConverter.from_concrete_functions([concrete_func])\n",
        "converted_tflite_model = converter.convert()\n",
        "open(TFLITE_MODEL, \"wb\").write(converted_tflite_model)\n",
        "\n",
        "# Convert the model to quantized version with post-training quantization\n",
        "converter = tf.lite.TFLiteConverter.from_concrete_functions([concrete_func])\n",
        "converter.optimizations = [tf.lite.Optimize.OPTIMIZE_FOR_SIZE]\n",
        "tflite_quant_model = converter.convert()\n",
        "open(TFLITE_QUANT_MODEL, \"wb\").write(tflite_quant_model)\n",
        "\n",
        "print(\"TFLite models and their sizes:\")\n",
        "!ls \"tflite_models\" -lh"
      ],
      "execution_count": 23,
      "outputs": [
        {
          "output_type": "stream",
          "text": [
            "INFO:tensorflow:Converted 262 variables to const ops.\n"
          ],
          "name": "stdout"
        },
        {
          "output_type": "stream",
          "text": [
            "INFO:tensorflow:Converted 262 variables to const ops.\n"
          ],
          "name": "stderr"
        },
        {
          "output_type": "stream",
          "text": [
            "INFO:tensorflow:Converted 262 variables to const ops.\n"
          ],
          "name": "stdout"
        },
        {
          "output_type": "stream",
          "text": [
            "INFO:tensorflow:Converted 262 variables to const ops.\n"
          ],
          "name": "stderr"
        },
        {
          "output_type": "stream",
          "text": [
            "TFLite models and their sizes:\n",
            "total 11M\n",
            "-rw-r--r-- 1 root root 2.3M Oct 31 05:42 shoe_quant.tflite\n",
            "-rw-r--r-- 1 root root 8.5M Oct 31 05:42 shoe.tflite\n"
          ],
          "name": "stdout"
        }
      ]
    },
    {
      "cell_type": "markdown",
      "metadata": {
        "id": "MXepA8LOWv4x",
        "colab_type": "text"
      },
      "source": [
        "***It is over. Now, you can download it :)***"
      ]
    }
  ]
}